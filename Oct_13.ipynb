{
 "cells": [
  {
   "cell_type": "markdown",
   "metadata": {},
   "source": [
    "# CLASS 4"
   ]
  },
  {
   "cell_type": "markdown",
   "metadata": {},
   "source": [
    "# How to count the number of files in a directory using Python"
   ]
  },
  {
   "cell_type": "code",
   "execution_count": 59,
   "metadata": {},
   "outputs": [],
   "source": [
    "import numpy as np\n",
    "images= np.zeros([20,200,200,2])"
   ]
  },
  {
   "cell_type": "code",
   "execution_count": null,
   "metadata": {},
   "outputs": [],
   "source": [
    "import os, os.path\n",
    "\n",
    "# simple version for working with CWD\n",
    "print len([name for name in os.listdir('.') if os.path.isfile(name)])\n",
    "\n",
    "# path joining version for other paths\n",
    "DIR = '/tmp'\n",
    "print len([name for name in os.listdir(DIR) if os.path.isfile(os.path.join(DIR, name))])"
   ]
  },
  {
   "cell_type": "code",
   "execution_count": null,
   "metadata": {},
   "outputs": [],
   "source": [
    "import os\n",
    "\n",
    "path, dirs, files = next(os.walk(\"/usr/lib\"))\n",
    "file_count = len(files)"
   ]
  },
  {
   "cell_type": "code",
   "execution_count": null,
   "metadata": {},
   "outputs": [],
   "source": [
    "#For all kind of files, subdirectories included:\n",
    "\n",
    "import os\n",
    "\n",
    "list = os.listdir(dir) # dir is your directory path\n",
    "number_files = len(list)\n",
    "print number_files\n",
    "\n",
    "#Only files (avoiding subdirectories):\n",
    "\n",
    "import os\n",
    "\n",
    "onlyfiles = next(os.walk(dir))[2] #dir is your directory path as string\n",
    "print len(onlyfiles)"
   ]
  },
  {
   "cell_type": "markdown",
   "metadata": {},
   "source": [
    "# PANDAS"
   ]
  },
  {
   "cell_type": "code",
   "execution_count": null,
   "metadata": {},
   "outputs": [],
   "source": [
    "Series,Data Frame\n",
    "series looks like 1d while data frame multi-d"
   ]
  },
  {
   "cell_type": "code",
   "execution_count": 6,
   "metadata": {},
   "outputs": [],
   "source": [
    "import pandas as pd"
   ]
  },
  {
   "cell_type": "code",
   "execution_count": 8,
   "metadata": {},
   "outputs": [
    {
     "name": "stdout",
     "output_type": "stream",
     "text": [
      "0    4\n",
      "1    7\n",
      "2   -5\n",
      "3    3\n",
      "dtype: int64\n"
     ]
    }
   ],
   "source": [
    "obj = pd.Series([4,7,-5,3])\n",
    "print(obj)\n",
    "\n",
    "#printing values with its index"
   ]
  },
  {
   "cell_type": "code",
   "execution_count": 9,
   "metadata": {},
   "outputs": [
    {
     "data": {
      "text/plain": [
       "array([ 4,  7, -5,  3], dtype=int64)"
      ]
     },
     "execution_count": 9,
     "metadata": {},
     "output_type": "execute_result"
    }
   ],
   "source": [
    "obj.values #attributes because of having no bracket"
   ]
  },
  {
   "cell_type": "code",
   "execution_count": 10,
   "metadata": {},
   "outputs": [
    {
     "data": {
      "text/plain": [
       "RangeIndex(start=0, stop=4, step=1)"
      ]
     },
     "execution_count": 10,
     "metadata": {},
     "output_type": "execute_result"
    }
   ],
   "source": [
    "obj.index"
   ]
  },
  {
   "cell_type": "code",
   "execution_count": 23,
   "metadata": {},
   "outputs": [
    {
     "name": "stdout",
     "output_type": "stream",
     "text": [
      "jan      100\n",
      "feb      200\n",
      "march    300\n",
      "apr      400\n",
      "Name: changing index name, dtype: int64\n",
      "[100 200 300 400]\n",
      "Index(['jan', 'feb', 'march', 'apr'], dtype='object')\n"
     ]
    }
   ],
   "source": [
    "mnth = pd.Series([100,200,300,400],index=['jan','feb','march','apr'],name=\"changing index name\")\n",
    "print(mnth)\n",
    "print(mnth.values)\n",
    "print(mnth.index)"
   ]
  },
  {
   "cell_type": "code",
   "execution_count": 24,
   "metadata": {},
   "outputs": [
    {
     "name": "stdout",
     "output_type": "stream",
     "text": [
      "jan      100\n",
      "feb      200\n",
      "march    300\n",
      "apr      400\n",
      "Name: changing index name, dtype: int64\n",
      "[100 200 300 400]\n",
      "Index(['jan', 'feb', 'march', 'apr'], dtype='object')\n"
     ]
    }
   ],
   "source": [
    "MnthNames=['jan','feb','march','apr']\n",
    "mnth = pd.Series([100,200,300,400],index=MnthNames,name=\"changing index name\")\n",
    "print(mnth)\n",
    "print(mnth.values)\n",
    "print(mnth.index)\n",
    "\n",
    "#storing any values to respective index"
   ]
  },
  {
   "cell_type": "code",
   "execution_count": 81,
   "metadata": {},
   "outputs": [
    {
     "name": "stdout",
     "output_type": "stream",
     "text": [
      "mon      20\n",
      "tue      30\n",
      "wed      20\n",
      "thurs    25\n",
      "fri      30\n",
      "sat      40\n",
      "sun       0\n",
      "Name: Canteen data, dtype: int64\n",
      "mon    20\n",
      "fri    30\n",
      "Name: Canteen data, dtype: int64\n",
      "tue    30\n",
      "fri    30\n",
      "Name: Canteen data, dtype: int64\n"
     ]
    }
   ],
   "source": [
    "DayNames=['mon','tue','wed','thurs','fri','sat','sun']\n",
    "Canteen = pd.Series([20,30,20,25,30,40,0],index=DayNames,name=\"Canteen data\")\n",
    "print(Canteen)\n",
    "\n",
    "print(Canteen[ [\"mon\",\"fri\"] ])\n",
    "print(Canteen[ [1,4] ])"
   ]
  },
  {
   "cell_type": "code",
   "execution_count": 82,
   "metadata": {},
   "outputs": [
    {
     "data": {
      "text/plain": [
       "True"
      ]
     },
     "execution_count": 82,
     "metadata": {},
     "output_type": "execute_result"
    }
   ],
   "source": [
    "\"mon\" in Canteen"
   ]
  },
  {
   "cell_type": "code",
   "execution_count": 83,
   "metadata": {},
   "outputs": [
    {
     "name": "stdout",
     "output_type": "stream",
     "text": [
      "[mon      False\n",
      "tue       True\n",
      "wed      False\n",
      "thurs     True\n",
      "fri       True\n",
      "sat       True\n",
      "sun      False\n",
      "Name: Canteen data, dtype: bool]\n"
     ]
    }
   ],
   "source": [
    "print([Canteen>20])"
   ]
  },
  {
   "cell_type": "code",
   "execution_count": null,
   "metadata": {},
   "outputs": [],
   "source": []
  },
  {
   "cell_type": "code",
   "execution_count": null,
   "metadata": {},
   "outputs": [],
   "source": []
  },
  {
   "cell_type": "code",
   "execution_count": null,
   "metadata": {},
   "outputs": [],
   "source": []
  },
  {
   "cell_type": "code",
   "execution_count": null,
   "metadata": {},
   "outputs": [],
   "source": []
  },
  {
   "cell_type": "code",
   "execution_count": null,
   "metadata": {},
   "outputs": [],
   "source": []
  },
  {
   "cell_type": "code",
   "execution_count": 27,
   "metadata": {},
   "outputs": [
    {
     "name": "stdout",
     "output_type": "stream",
     "text": [
      "30\n"
     ]
    }
   ],
   "source": [
    "print(Canteen[\"tue\"]) #accesing the value with modified index"
   ]
  },
  {
   "cell_type": "code",
   "execution_count": 28,
   "metadata": {},
   "outputs": [
    {
     "name": "stdout",
     "output_type": "stream",
     "text": [
      "30\n"
     ]
    }
   ],
   "source": [
    "print(Canteen[1]) #accessing value with pre-defined index"
   ]
  },
  {
   "cell_type": "code",
   "execution_count": 29,
   "metadata": {},
   "outputs": [
    {
     "name": "stdout",
     "output_type": "stream",
     "text": [
      "January\n",
      "Jan\n",
      "\n",
      "February\n",
      "Feb\n",
      "\n",
      "March\n",
      "Mar\n",
      "\n",
      "April\n",
      "Apr\n",
      "\n",
      "May\n",
      "May\n",
      "\n",
      "June\n",
      "Jun\n",
      "\n",
      "July\n",
      "Jul\n",
      "\n",
      "August\n",
      "Aug\n",
      "\n",
      "September\n",
      "Sep\n",
      "\n",
      "October\n",
      "Oct\n",
      "\n",
      "November\n",
      "Nov\n",
      "\n",
      "December\n",
      "Dec\n",
      "\n"
     ]
    }
   ],
   "source": [
    "import calendar\n",
    "\n",
    "for month_idx in range(1, 13):\n",
    "    print (calendar.month_name[month_idx])\n",
    "    print (calendar.month_abbr[month_idx])\n",
    "    print (\"\")"
   ]
  },
  {
   "cell_type": "code",
   "execution_count": 76,
   "metadata": {},
   "outputs": [
    {
     "name": "stdout",
     "output_type": "stream",
     "text": [
      "Jan    43\n",
      "Feb    45\n",
      "Mar    56\n",
      "Apr    48\n",
      "May    56\n",
      "Jun    16\n",
      "Jul    92\n",
      "Aug    98\n",
      "Sep    66\n",
      "Oct    91\n",
      "Nov    24\n",
      "Dec    94\n",
      "dtype: int32\n"
     ]
    }
   ],
   "source": [
    "values= np.random.randint(10,101,size=[12])\n",
    "months = []\n",
    "for i in range(1,13):\n",
    "    mnths=calendar.month_abbr[i]\n",
    "    months.append(mnths)\n",
    "    \n",
    "demo = pd.Series(values,\n",
    "                 index = months)\n",
    "\n",
    "print(demo)"
   ]
  }
 ],
 "metadata": {
  "kernelspec": {
   "display_name": "Python 3",
   "language": "python",
   "name": "python3"
  },
  "language_info": {
   "codemirror_mode": {
    "name": "ipython",
    "version": 3
   },
   "file_extension": ".py",
   "mimetype": "text/x-python",
   "name": "python",
   "nbconvert_exporter": "python",
   "pygments_lexer": "ipython3",
   "version": "3.7.3"
  }
 },
 "nbformat": 4,
 "nbformat_minor": 2
}
